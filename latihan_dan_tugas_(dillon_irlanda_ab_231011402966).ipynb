{
  "nbformat": 4,
  "nbformat_minor": 0,
  "metadata": {
    "colab": {
      "provenance": [],
      "toc_visible": true
    },
    "kernelspec": {
      "name": "python3",
      "display_name": "Python 3"
    },
    "language_info": {
      "name": "python"
    }
  },
  "cells": [
    {
      "cell_type": "code",
      "execution_count": null,
      "metadata": {
        "id": "C8U-mMOF484N"
      },
      "outputs": [],
      "source": [
        "01\n",
        "\n"
      ]
    },
    {
      "cell_type": "code",
      "source": [
        "import pandas as pd\n",
        "from google.colab import files\n",
        "uploaded = files.upload()\n",
        "df = pd.read_excel(\"Datasets Superstore.xlsx\")\n",
        "df.head()"
      ],
      "metadata": {
        "colab": {
          "base_uri": "https://localhost:8080/",
          "height": 658
        },
        "id": "vyy1fmtR7Eki",
        "outputId": "968adf19-9a3f-401d-d1ca-adc2d7c4fd63"
      },
      "execution_count": null,
      "outputs": [
        {
          "output_type": "display_data",
          "data": {
            "text/plain": [
              "<IPython.core.display.HTML object>"
            ],
            "text/html": [
              "\n",
              "     <input type=\"file\" id=\"files-3290e7e6-2573-4063-885c-17deb246ad86\" name=\"files[]\" multiple disabled\n",
              "        style=\"border:none\" />\n",
              "     <output id=\"result-3290e7e6-2573-4063-885c-17deb246ad86\">\n",
              "      Upload widget is only available when the cell has been executed in the\n",
              "      current browser session. Please rerun this cell to enable.\n",
              "      </output>\n",
              "      <script>// Copyright 2017 Google LLC\n",
              "//\n",
              "// Licensed under the Apache License, Version 2.0 (the \"License\");\n",
              "// you may not use this file except in compliance with the License.\n",
              "// You may obtain a copy of the License at\n",
              "//\n",
              "//      http://www.apache.org/licenses/LICENSE-2.0\n",
              "//\n",
              "// Unless required by applicable law or agreed to in writing, software\n",
              "// distributed under the License is distributed on an \"AS IS\" BASIS,\n",
              "// WITHOUT WARRANTIES OR CONDITIONS OF ANY KIND, either express or implied.\n",
              "// See the License for the specific language governing permissions and\n",
              "// limitations under the License.\n",
              "\n",
              "/**\n",
              " * @fileoverview Helpers for google.colab Python module.\n",
              " */\n",
              "(function(scope) {\n",
              "function span(text, styleAttributes = {}) {\n",
              "  const element = document.createElement('span');\n",
              "  element.textContent = text;\n",
              "  for (const key of Object.keys(styleAttributes)) {\n",
              "    element.style[key] = styleAttributes[key];\n",
              "  }\n",
              "  return element;\n",
              "}\n",
              "\n",
              "// Max number of bytes which will be uploaded at a time.\n",
              "const MAX_PAYLOAD_SIZE = 100 * 1024;\n",
              "\n",
              "function _uploadFiles(inputId, outputId) {\n",
              "  const steps = uploadFilesStep(inputId, outputId);\n",
              "  const outputElement = document.getElementById(outputId);\n",
              "  // Cache steps on the outputElement to make it available for the next call\n",
              "  // to uploadFilesContinue from Python.\n",
              "  outputElement.steps = steps;\n",
              "\n",
              "  return _uploadFilesContinue(outputId);\n",
              "}\n",
              "\n",
              "// This is roughly an async generator (not supported in the browser yet),\n",
              "// where there are multiple asynchronous steps and the Python side is going\n",
              "// to poll for completion of each step.\n",
              "// This uses a Promise to block the python side on completion of each step,\n",
              "// then passes the result of the previous step as the input to the next step.\n",
              "function _uploadFilesContinue(outputId) {\n",
              "  const outputElement = document.getElementById(outputId);\n",
              "  const steps = outputElement.steps;\n",
              "\n",
              "  const next = steps.next(outputElement.lastPromiseValue);\n",
              "  return Promise.resolve(next.value.promise).then((value) => {\n",
              "    // Cache the last promise value to make it available to the next\n",
              "    // step of the generator.\n",
              "    outputElement.lastPromiseValue = value;\n",
              "    return next.value.response;\n",
              "  });\n",
              "}\n",
              "\n",
              "/**\n",
              " * Generator function which is called between each async step of the upload\n",
              " * process.\n",
              " * @param {string} inputId Element ID of the input file picker element.\n",
              " * @param {string} outputId Element ID of the output display.\n",
              " * @return {!Iterable<!Object>} Iterable of next steps.\n",
              " */\n",
              "function* uploadFilesStep(inputId, outputId) {\n",
              "  const inputElement = document.getElementById(inputId);\n",
              "  inputElement.disabled = false;\n",
              "\n",
              "  const outputElement = document.getElementById(outputId);\n",
              "  outputElement.innerHTML = '';\n",
              "\n",
              "  const pickedPromise = new Promise((resolve) => {\n",
              "    inputElement.addEventListener('change', (e) => {\n",
              "      resolve(e.target.files);\n",
              "    });\n",
              "  });\n",
              "\n",
              "  const cancel = document.createElement('button');\n",
              "  inputElement.parentElement.appendChild(cancel);\n",
              "  cancel.textContent = 'Cancel upload';\n",
              "  const cancelPromise = new Promise((resolve) => {\n",
              "    cancel.onclick = () => {\n",
              "      resolve(null);\n",
              "    };\n",
              "  });\n",
              "\n",
              "  // Wait for the user to pick the files.\n",
              "  const files = yield {\n",
              "    promise: Promise.race([pickedPromise, cancelPromise]),\n",
              "    response: {\n",
              "      action: 'starting',\n",
              "    }\n",
              "  };\n",
              "\n",
              "  cancel.remove();\n",
              "\n",
              "  // Disable the input element since further picks are not allowed.\n",
              "  inputElement.disabled = true;\n",
              "\n",
              "  if (!files) {\n",
              "    return {\n",
              "      response: {\n",
              "        action: 'complete',\n",
              "      }\n",
              "    };\n",
              "  }\n",
              "\n",
              "  for (const file of files) {\n",
              "    const li = document.createElement('li');\n",
              "    li.append(span(file.name, {fontWeight: 'bold'}));\n",
              "    li.append(span(\n",
              "        `(${file.type || 'n/a'}) - ${file.size} bytes, ` +\n",
              "        `last modified: ${\n",
              "            file.lastModifiedDate ? file.lastModifiedDate.toLocaleDateString() :\n",
              "                                    'n/a'} - `));\n",
              "    const percent = span('0% done');\n",
              "    li.appendChild(percent);\n",
              "\n",
              "    outputElement.appendChild(li);\n",
              "\n",
              "    const fileDataPromise = new Promise((resolve) => {\n",
              "      const reader = new FileReader();\n",
              "      reader.onload = (e) => {\n",
              "        resolve(e.target.result);\n",
              "      };\n",
              "      reader.readAsArrayBuffer(file);\n",
              "    });\n",
              "    // Wait for the data to be ready.\n",
              "    let fileData = yield {\n",
              "      promise: fileDataPromise,\n",
              "      response: {\n",
              "        action: 'continue',\n",
              "      }\n",
              "    };\n",
              "\n",
              "    // Use a chunked sending to avoid message size limits. See b/62115660.\n",
              "    let position = 0;\n",
              "    do {\n",
              "      const length = Math.min(fileData.byteLength - position, MAX_PAYLOAD_SIZE);\n",
              "      const chunk = new Uint8Array(fileData, position, length);\n",
              "      position += length;\n",
              "\n",
              "      const base64 = btoa(String.fromCharCode.apply(null, chunk));\n",
              "      yield {\n",
              "        response: {\n",
              "          action: 'append',\n",
              "          file: file.name,\n",
              "          data: base64,\n",
              "        },\n",
              "      };\n",
              "\n",
              "      let percentDone = fileData.byteLength === 0 ?\n",
              "          100 :\n",
              "          Math.round((position / fileData.byteLength) * 100);\n",
              "      percent.textContent = `${percentDone}% done`;\n",
              "\n",
              "    } while (position < fileData.byteLength);\n",
              "  }\n",
              "\n",
              "  // All done.\n",
              "  yield {\n",
              "    response: {\n",
              "      action: 'complete',\n",
              "    }\n",
              "  };\n",
              "}\n",
              "\n",
              "scope.google = scope.google || {};\n",
              "scope.google.colab = scope.google.colab || {};\n",
              "scope.google.colab._files = {\n",
              "  _uploadFiles,\n",
              "  _uploadFilesContinue,\n",
              "};\n",
              "})(self);\n",
              "</script> "
            ]
          },
          "metadata": {}
        },
        {
          "output_type": "stream",
          "name": "stdout",
          "text": [
            "Saving Datasets Superstore.xlsx to Datasets Superstore.xlsx\n"
          ]
        },
        {
          "output_type": "execute_result",
          "data": {
            "text/plain": [
              "   Row ID        Order ID Order Date  Year     Month  Day       Ship Mode  \\\n",
              "0       1  CA-2016-152156 2016-11-08  2016  November    8    Second Class   \n",
              "1       2  CA-2016-152156 2016-11-08  2016  November    8    Second Class   \n",
              "2       3  CA-2016-138688 2016-06-12  2016      Juni   12    Second Class   \n",
              "3       4  US-2015-108966 2015-10-11  2015   Oktober   11  Standard Class   \n",
              "4       5  US-2015-108966 2015-10-11  2015   Oktober   11  Standard Class   \n",
              "\n",
              "  Customer ID    Customer Name    Segment  ... Postal Code Region  \\\n",
              "0    CG-12520      Claire Gute   Consumer  ...       42420  South   \n",
              "1    CG-12520      Claire Gute   Consumer  ...       42420  South   \n",
              "2    DV-13045  Darrin Van Huff  Corporate  ...       90036   West   \n",
              "3    SO-20335   Sean O'Donnell   Consumer  ...       33311  South   \n",
              "4    SO-20335   Sean O'Donnell   Consumer  ...       33311  South   \n",
              "\n",
              "        Product ID         Category Sub-Category  \\\n",
              "0  FUR-BO-10001798        Furniture    Bookcases   \n",
              "1  FUR-CH-10000454        Furniture       Chairs   \n",
              "2  OFF-LA-10000240  Office Supplies       Labels   \n",
              "3  FUR-TA-10000577        Furniture       Tables   \n",
              "4  OFF-ST-10000760  Office Supplies      Storage   \n",
              "\n",
              "                                        Product Name     Sales Quantity  \\\n",
              "0                  Bush Somerset Collection Bookcase  261.9600        2   \n",
              "1  Hon Deluxe Fabric Upholstered Stacking Chairs,...  731.9400        3   \n",
              "2  Self-Adhesive Address Labels for Typewriters b...   14.6200        2   \n",
              "3      Bretford CR4500 Series Slim Rectangular Table  957.5775        5   \n",
              "4                     Eldon Fold 'N Roll Cart System   22.3680        2   \n",
              "\n",
              "  Discount    Profit  \n",
              "0     0.00   41.9136  \n",
              "1     0.00  219.5820  \n",
              "2     0.00    6.8714  \n",
              "3     0.45 -383.0310  \n",
              "4     0.20    2.5164  \n",
              "\n",
              "[5 rows x 23 columns]"
            ],
            "text/html": [
              "\n",
              "  <div id=\"df-c95bf32f-ebad-4a81-972e-344ae752c5b8\" class=\"colab-df-container\">\n",
              "    <div>\n",
              "<style scoped>\n",
              "    .dataframe tbody tr th:only-of-type {\n",
              "        vertical-align: middle;\n",
              "    }\n",
              "\n",
              "    .dataframe tbody tr th {\n",
              "        vertical-align: top;\n",
              "    }\n",
              "\n",
              "    .dataframe thead th {\n",
              "        text-align: right;\n",
              "    }\n",
              "</style>\n",
              "<table border=\"1\" class=\"dataframe\">\n",
              "  <thead>\n",
              "    <tr style=\"text-align: right;\">\n",
              "      <th></th>\n",
              "      <th>Row ID</th>\n",
              "      <th>Order ID</th>\n",
              "      <th>Order Date</th>\n",
              "      <th>Year</th>\n",
              "      <th>Month</th>\n",
              "      <th>Day</th>\n",
              "      <th>Ship Mode</th>\n",
              "      <th>Customer ID</th>\n",
              "      <th>Customer Name</th>\n",
              "      <th>Segment</th>\n",
              "      <th>...</th>\n",
              "      <th>Postal Code</th>\n",
              "      <th>Region</th>\n",
              "      <th>Product ID</th>\n",
              "      <th>Category</th>\n",
              "      <th>Sub-Category</th>\n",
              "      <th>Product Name</th>\n",
              "      <th>Sales</th>\n",
              "      <th>Quantity</th>\n",
              "      <th>Discount</th>\n",
              "      <th>Profit</th>\n",
              "    </tr>\n",
              "  </thead>\n",
              "  <tbody>\n",
              "    <tr>\n",
              "      <th>0</th>\n",
              "      <td>1</td>\n",
              "      <td>CA-2016-152156</td>\n",
              "      <td>2016-11-08</td>\n",
              "      <td>2016</td>\n",
              "      <td>November</td>\n",
              "      <td>8</td>\n",
              "      <td>Second Class</td>\n",
              "      <td>CG-12520</td>\n",
              "      <td>Claire Gute</td>\n",
              "      <td>Consumer</td>\n",
              "      <td>...</td>\n",
              "      <td>42420</td>\n",
              "      <td>South</td>\n",
              "      <td>FUR-BO-10001798</td>\n",
              "      <td>Furniture</td>\n",
              "      <td>Bookcases</td>\n",
              "      <td>Bush Somerset Collection Bookcase</td>\n",
              "      <td>261.9600</td>\n",
              "      <td>2</td>\n",
              "      <td>0.00</td>\n",
              "      <td>41.9136</td>\n",
              "    </tr>\n",
              "    <tr>\n",
              "      <th>1</th>\n",
              "      <td>2</td>\n",
              "      <td>CA-2016-152156</td>\n",
              "      <td>2016-11-08</td>\n",
              "      <td>2016</td>\n",
              "      <td>November</td>\n",
              "      <td>8</td>\n",
              "      <td>Second Class</td>\n",
              "      <td>CG-12520</td>\n",
              "      <td>Claire Gute</td>\n",
              "      <td>Consumer</td>\n",
              "      <td>...</td>\n",
              "      <td>42420</td>\n",
              "      <td>South</td>\n",
              "      <td>FUR-CH-10000454</td>\n",
              "      <td>Furniture</td>\n",
              "      <td>Chairs</td>\n",
              "      <td>Hon Deluxe Fabric Upholstered Stacking Chairs,...</td>\n",
              "      <td>731.9400</td>\n",
              "      <td>3</td>\n",
              "      <td>0.00</td>\n",
              "      <td>219.5820</td>\n",
              "    </tr>\n",
              "    <tr>\n",
              "      <th>2</th>\n",
              "      <td>3</td>\n",
              "      <td>CA-2016-138688</td>\n",
              "      <td>2016-06-12</td>\n",
              "      <td>2016</td>\n",
              "      <td>Juni</td>\n",
              "      <td>12</td>\n",
              "      <td>Second Class</td>\n",
              "      <td>DV-13045</td>\n",
              "      <td>Darrin Van Huff</td>\n",
              "      <td>Corporate</td>\n",
              "      <td>...</td>\n",
              "      <td>90036</td>\n",
              "      <td>West</td>\n",
              "      <td>OFF-LA-10000240</td>\n",
              "      <td>Office Supplies</td>\n",
              "      <td>Labels</td>\n",
              "      <td>Self-Adhesive Address Labels for Typewriters b...</td>\n",
              "      <td>14.6200</td>\n",
              "      <td>2</td>\n",
              "      <td>0.00</td>\n",
              "      <td>6.8714</td>\n",
              "    </tr>\n",
              "    <tr>\n",
              "      <th>3</th>\n",
              "      <td>4</td>\n",
              "      <td>US-2015-108966</td>\n",
              "      <td>2015-10-11</td>\n",
              "      <td>2015</td>\n",
              "      <td>Oktober</td>\n",
              "      <td>11</td>\n",
              "      <td>Standard Class</td>\n",
              "      <td>SO-20335</td>\n",
              "      <td>Sean O'Donnell</td>\n",
              "      <td>Consumer</td>\n",
              "      <td>...</td>\n",
              "      <td>33311</td>\n",
              "      <td>South</td>\n",
              "      <td>FUR-TA-10000577</td>\n",
              "      <td>Furniture</td>\n",
              "      <td>Tables</td>\n",
              "      <td>Bretford CR4500 Series Slim Rectangular Table</td>\n",
              "      <td>957.5775</td>\n",
              "      <td>5</td>\n",
              "      <td>0.45</td>\n",
              "      <td>-383.0310</td>\n",
              "    </tr>\n",
              "    <tr>\n",
              "      <th>4</th>\n",
              "      <td>5</td>\n",
              "      <td>US-2015-108966</td>\n",
              "      <td>2015-10-11</td>\n",
              "      <td>2015</td>\n",
              "      <td>Oktober</td>\n",
              "      <td>11</td>\n",
              "      <td>Standard Class</td>\n",
              "      <td>SO-20335</td>\n",
              "      <td>Sean O'Donnell</td>\n",
              "      <td>Consumer</td>\n",
              "      <td>...</td>\n",
              "      <td>33311</td>\n",
              "      <td>South</td>\n",
              "      <td>OFF-ST-10000760</td>\n",
              "      <td>Office Supplies</td>\n",
              "      <td>Storage</td>\n",
              "      <td>Eldon Fold 'N Roll Cart System</td>\n",
              "      <td>22.3680</td>\n",
              "      <td>2</td>\n",
              "      <td>0.20</td>\n",
              "      <td>2.5164</td>\n",
              "    </tr>\n",
              "  </tbody>\n",
              "</table>\n",
              "<p>5 rows × 23 columns</p>\n",
              "</div>\n",
              "    <div class=\"colab-df-buttons\">\n",
              "\n",
              "  <div class=\"colab-df-container\">\n",
              "    <button class=\"colab-df-convert\" onclick=\"convertToInteractive('df-c95bf32f-ebad-4a81-972e-344ae752c5b8')\"\n",
              "            title=\"Convert this dataframe to an interactive table.\"\n",
              "            style=\"display:none;\">\n",
              "\n",
              "  <svg xmlns=\"http://www.w3.org/2000/svg\" height=\"24px\" viewBox=\"0 -960 960 960\">\n",
              "    <path d=\"M120-120v-720h720v720H120Zm60-500h600v-160H180v160Zm220 220h160v-160H400v160Zm0 220h160v-160H400v160ZM180-400h160v-160H180v160Zm440 0h160v-160H620v160ZM180-180h160v-160H180v160Zm440 0h160v-160H620v160Z\"/>\n",
              "  </svg>\n",
              "    </button>\n",
              "\n",
              "  <style>\n",
              "    .colab-df-container {\n",
              "      display:flex;\n",
              "      gap: 12px;\n",
              "    }\n",
              "\n",
              "    .colab-df-convert {\n",
              "      background-color: #E8F0FE;\n",
              "      border: none;\n",
              "      border-radius: 50%;\n",
              "      cursor: pointer;\n",
              "      display: none;\n",
              "      fill: #1967D2;\n",
              "      height: 32px;\n",
              "      padding: 0 0 0 0;\n",
              "      width: 32px;\n",
              "    }\n",
              "\n",
              "    .colab-df-convert:hover {\n",
              "      background-color: #E2EBFA;\n",
              "      box-shadow: 0px 1px 2px rgba(60, 64, 67, 0.3), 0px 1px 3px 1px rgba(60, 64, 67, 0.15);\n",
              "      fill: #174EA6;\n",
              "    }\n",
              "\n",
              "    .colab-df-buttons div {\n",
              "      margin-bottom: 4px;\n",
              "    }\n",
              "\n",
              "    [theme=dark] .colab-df-convert {\n",
              "      background-color: #3B4455;\n",
              "      fill: #D2E3FC;\n",
              "    }\n",
              "\n",
              "    [theme=dark] .colab-df-convert:hover {\n",
              "      background-color: #434B5C;\n",
              "      box-shadow: 0px 1px 3px 1px rgba(0, 0, 0, 0.15);\n",
              "      filter: drop-shadow(0px 1px 2px rgba(0, 0, 0, 0.3));\n",
              "      fill: #FFFFFF;\n",
              "    }\n",
              "  </style>\n",
              "\n",
              "    <script>\n",
              "      const buttonEl =\n",
              "        document.querySelector('#df-c95bf32f-ebad-4a81-972e-344ae752c5b8 button.colab-df-convert');\n",
              "      buttonEl.style.display =\n",
              "        google.colab.kernel.accessAllowed ? 'block' : 'none';\n",
              "\n",
              "      async function convertToInteractive(key) {\n",
              "        const element = document.querySelector('#df-c95bf32f-ebad-4a81-972e-344ae752c5b8');\n",
              "        const dataTable =\n",
              "          await google.colab.kernel.invokeFunction('convertToInteractive',\n",
              "                                                    [key], {});\n",
              "        if (!dataTable) return;\n",
              "\n",
              "        const docLinkHtml = 'Like what you see? Visit the ' +\n",
              "          '<a target=\"_blank\" href=https://colab.research.google.com/notebooks/data_table.ipynb>data table notebook</a>'\n",
              "          + ' to learn more about interactive tables.';\n",
              "        element.innerHTML = '';\n",
              "        dataTable['output_type'] = 'display_data';\n",
              "        await google.colab.output.renderOutput(dataTable, element);\n",
              "        const docLink = document.createElement('div');\n",
              "        docLink.innerHTML = docLinkHtml;\n",
              "        element.appendChild(docLink);\n",
              "      }\n",
              "    </script>\n",
              "  </div>\n",
              "\n",
              "\n",
              "    <div id=\"df-54b41c2b-229d-4aef-945e-ac22b1342470\">\n",
              "      <button class=\"colab-df-quickchart\" onclick=\"quickchart('df-54b41c2b-229d-4aef-945e-ac22b1342470')\"\n",
              "                title=\"Suggest charts\"\n",
              "                style=\"display:none;\">\n",
              "\n",
              "<svg xmlns=\"http://www.w3.org/2000/svg\" height=\"24px\"viewBox=\"0 0 24 24\"\n",
              "     width=\"24px\">\n",
              "    <g>\n",
              "        <path d=\"M19 3H5c-1.1 0-2 .9-2 2v14c0 1.1.9 2 2 2h14c1.1 0 2-.9 2-2V5c0-1.1-.9-2-2-2zM9 17H7v-7h2v7zm4 0h-2V7h2v10zm4 0h-2v-4h2v4z\"/>\n",
              "    </g>\n",
              "</svg>\n",
              "      </button>\n",
              "\n",
              "<style>\n",
              "  .colab-df-quickchart {\n",
              "      --bg-color: #E8F0FE;\n",
              "      --fill-color: #1967D2;\n",
              "      --hover-bg-color: #E2EBFA;\n",
              "      --hover-fill-color: #174EA6;\n",
              "      --disabled-fill-color: #AAA;\n",
              "      --disabled-bg-color: #DDD;\n",
              "  }\n",
              "\n",
              "  [theme=dark] .colab-df-quickchart {\n",
              "      --bg-color: #3B4455;\n",
              "      --fill-color: #D2E3FC;\n",
              "      --hover-bg-color: #434B5C;\n",
              "      --hover-fill-color: #FFFFFF;\n",
              "      --disabled-bg-color: #3B4455;\n",
              "      --disabled-fill-color: #666;\n",
              "  }\n",
              "\n",
              "  .colab-df-quickchart {\n",
              "    background-color: var(--bg-color);\n",
              "    border: none;\n",
              "    border-radius: 50%;\n",
              "    cursor: pointer;\n",
              "    display: none;\n",
              "    fill: var(--fill-color);\n",
              "    height: 32px;\n",
              "    padding: 0;\n",
              "    width: 32px;\n",
              "  }\n",
              "\n",
              "  .colab-df-quickchart:hover {\n",
              "    background-color: var(--hover-bg-color);\n",
              "    box-shadow: 0 1px 2px rgba(60, 64, 67, 0.3), 0 1px 3px 1px rgba(60, 64, 67, 0.15);\n",
              "    fill: var(--button-hover-fill-color);\n",
              "  }\n",
              "\n",
              "  .colab-df-quickchart-complete:disabled,\n",
              "  .colab-df-quickchart-complete:disabled:hover {\n",
              "    background-color: var(--disabled-bg-color);\n",
              "    fill: var(--disabled-fill-color);\n",
              "    box-shadow: none;\n",
              "  }\n",
              "\n",
              "  .colab-df-spinner {\n",
              "    border: 2px solid var(--fill-color);\n",
              "    border-color: transparent;\n",
              "    border-bottom-color: var(--fill-color);\n",
              "    animation:\n",
              "      spin 1s steps(1) infinite;\n",
              "  }\n",
              "\n",
              "  @keyframes spin {\n",
              "    0% {\n",
              "      border-color: transparent;\n",
              "      border-bottom-color: var(--fill-color);\n",
              "      border-left-color: var(--fill-color);\n",
              "    }\n",
              "    20% {\n",
              "      border-color: transparent;\n",
              "      border-left-color: var(--fill-color);\n",
              "      border-top-color: var(--fill-color);\n",
              "    }\n",
              "    30% {\n",
              "      border-color: transparent;\n",
              "      border-left-color: var(--fill-color);\n",
              "      border-top-color: var(--fill-color);\n",
              "      border-right-color: var(--fill-color);\n",
              "    }\n",
              "    40% {\n",
              "      border-color: transparent;\n",
              "      border-right-color: var(--fill-color);\n",
              "      border-top-color: var(--fill-color);\n",
              "    }\n",
              "    60% {\n",
              "      border-color: transparent;\n",
              "      border-right-color: var(--fill-color);\n",
              "    }\n",
              "    80% {\n",
              "      border-color: transparent;\n",
              "      border-right-color: var(--fill-color);\n",
              "      border-bottom-color: var(--fill-color);\n",
              "    }\n",
              "    90% {\n",
              "      border-color: transparent;\n",
              "      border-bottom-color: var(--fill-color);\n",
              "    }\n",
              "  }\n",
              "</style>\n",
              "\n",
              "      <script>\n",
              "        async function quickchart(key) {\n",
              "          const quickchartButtonEl =\n",
              "            document.querySelector('#' + key + ' button');\n",
              "          quickchartButtonEl.disabled = true;  // To prevent multiple clicks.\n",
              "          quickchartButtonEl.classList.add('colab-df-spinner');\n",
              "          try {\n",
              "            const charts = await google.colab.kernel.invokeFunction(\n",
              "                'suggestCharts', [key], {});\n",
              "          } catch (error) {\n",
              "            console.error('Error during call to suggestCharts:', error);\n",
              "          }\n",
              "          quickchartButtonEl.classList.remove('colab-df-spinner');\n",
              "          quickchartButtonEl.classList.add('colab-df-quickchart-complete');\n",
              "        }\n",
              "        (() => {\n",
              "          let quickchartButtonEl =\n",
              "            document.querySelector('#df-54b41c2b-229d-4aef-945e-ac22b1342470 button');\n",
              "          quickchartButtonEl.style.display =\n",
              "            google.colab.kernel.accessAllowed ? 'block' : 'none';\n",
              "        })();\n",
              "      </script>\n",
              "    </div>\n",
              "\n",
              "    </div>\n",
              "  </div>\n"
            ],
            "application/vnd.google.colaboratory.intrinsic+json": {
              "type": "dataframe",
              "variable_name": "df"
            }
          },
          "metadata": {},
          "execution_count": 2
        }
      ]
    },
    {
      "cell_type": "markdown",
      "source": [
        "02\n"
      ],
      "metadata": {
        "id": "UH1spXhd7Ya7"
      }
    },
    {
      "cell_type": "code",
      "source": [
        "df.info()\n",
        "print(\"\\nMissing values:\\n\", df.isnull().sum())\n",
        "df.describe()\n",
        "df.columns"
      ],
      "metadata": {
        "colab": {
          "base_uri": "https://localhost:8080/"
        },
        "id": "iqceIAIn7Z_N",
        "outputId": "7d93d046-7f5b-47f0-81ad-f54c10ed6b7a"
      },
      "execution_count": null,
      "outputs": [
        {
          "output_type": "stream",
          "name": "stdout",
          "text": [
            "<class 'pandas.core.frame.DataFrame'>\n",
            "RangeIndex: 9994 entries, 0 to 9993\n",
            "Data columns (total 23 columns):\n",
            " #   Column         Non-Null Count  Dtype         \n",
            "---  ------         --------------  -----         \n",
            " 0   Row ID         9994 non-null   int64         \n",
            " 1   Order ID       9994 non-null   object        \n",
            " 2   Order Date     9994 non-null   datetime64[ns]\n",
            " 3   Year           9994 non-null   int64         \n",
            " 4   Month          9994 non-null   object        \n",
            " 5   Day            9994 non-null   int64         \n",
            " 6   Ship Mode      9994 non-null   object        \n",
            " 7   Customer ID    9994 non-null   object        \n",
            " 8   Customer Name  9994 non-null   object        \n",
            " 9   Segment        9994 non-null   object        \n",
            " 10  Country        9994 non-null   object        \n",
            " 11  City           9994 non-null   object        \n",
            " 12  State          9994 non-null   object        \n",
            " 13  Postal Code    9994 non-null   int64         \n",
            " 14  Region         9994 non-null   object        \n",
            " 15  Product ID     9994 non-null   object        \n",
            " 16  Category       9994 non-null   object        \n",
            " 17  Sub-Category   9994 non-null   object        \n",
            " 18  Product Name   9994 non-null   object        \n",
            " 19  Sales          9994 non-null   float64       \n",
            " 20  Quantity       9994 non-null   int64         \n",
            " 21  Discount       9994 non-null   float64       \n",
            " 22  Profit         9994 non-null   float64       \n",
            "dtypes: datetime64[ns](1), float64(3), int64(5), object(14)\n",
            "memory usage: 1.8+ MB\n",
            "\n",
            "Missing values:\n",
            " Row ID           0\n",
            "Order ID         0\n",
            "Order Date       0\n",
            "Year             0\n",
            "Month            0\n",
            "Day              0\n",
            "Ship Mode        0\n",
            "Customer ID      0\n",
            "Customer Name    0\n",
            "Segment          0\n",
            "Country          0\n",
            "City             0\n",
            "State            0\n",
            "Postal Code      0\n",
            "Region           0\n",
            "Product ID       0\n",
            "Category         0\n",
            "Sub-Category     0\n",
            "Product Name     0\n",
            "Sales            0\n",
            "Quantity         0\n",
            "Discount         0\n",
            "Profit           0\n",
            "dtype: int64\n"
          ]
        },
        {
          "output_type": "execute_result",
          "data": {
            "text/plain": [
              "Index(['Row ID', 'Order ID', 'Order Date', 'Year', 'Month', 'Day', 'Ship Mode',\n",
              "       'Customer ID', 'Customer Name', 'Segment', 'Country', 'City', 'State',\n",
              "       'Postal Code', 'Region', 'Product ID', 'Category', 'Sub-Category',\n",
              "       'Product Name', 'Sales', 'Quantity', 'Discount', 'Profit'],\n",
              "      dtype='object')"
            ]
          },
          "metadata": {},
          "execution_count": 3
        }
      ]
    },
    {
      "cell_type": "markdown",
      "source": [
        "03\n"
      ],
      "metadata": {
        "id": "jgJwJXoe8UUu"
      }
    },
    {
      "cell_type": "code",
      "source": [
        "import seaborn as sns\n",
        "import matplotlib.pyplot as plt\n",
        "\n",
        "df.groupby('Category')['Sales'].sum().plot(kind='bar', title='Penjualan per Kategori')\n",
        "plt.ylabel('Total Sales')\n",
        "plt.show()\n",
        "\n",
        "sns.scatterplot(data=df, x='Discount', y='Profit')\n",
        "plt.title('Diskon vs Profit')\n",
        "plt.show()"
      ],
      "metadata": {
        "colab": {
          "base_uri": "https://localhost:8080/",
          "height": 1000
        },
        "id": "n_yH09BN8W7f",
        "outputId": "2ac365f2-5c2a-4b58-da62-510aaae9f799"
      },
      "execution_count": null,
      "outputs": [
        {
          "output_type": "display_data",
          "data": {
            "text/plain": [
              "<Figure size 640x480 with 1 Axes>"
            ],
            "image/png": "[encoded data removed]"
          },
          "metadata": {}
        },
        {
          "output_type": "display_data",
          "data": {
            "text/plain": [
              "<Figure size 640x480 with 1 Axes>"
            ],
            "image/png": "[encoded data removed]"
          },
          "metadata": {}
        }
      ]
    },
    {
      "cell_type": "markdown",
      "source": [
        "04"
      ],
      "metadata": {
        "id": "whQmoqUx8niH"
      }
    },
    {
      "cell_type": "markdown",
      "source": [],
      "metadata": {
        "id": "yQrDMS3E7C5c"
      }
    },
    {
      "cell_type": "code",
      "source": [
        "from sklearn.tree import DecisionTreeClassifier\n",
        "from sklearn.model_selection import train_test_split\n",
        "from sklearn.metrics import classification_report, confusion_matrix\n",
        "\n",
        "df['Label'] = df['Profit'].apply(lambda x: 1 if x > 0 else 0)\n",
        "features = df[['Sales', 'Discount', 'Quantity']].fillna(0)\n",
        "labels = df['Label']\n",
        "\n",
        "X_train, X_test, y_train, y_test = train_test_split(features, labels, test_size=0.3, random_state=42)\n",
        "model = DecisionTreeClassifier()\n",
        "model.fit(X_train, y_train)\n",
        "y_pred = model.predict(X_test)\n",
        "\n",
        "print(\"Classification Report:\\n\", classification_report(y_test, y_pred))\n",
        "print(\"Confusion Matrix:\\n\", confusion_matrix(y_test, y_pred))\n"
      ],
      "metadata": {
        "colab": {
          "base_uri": "https://localhost:8080/"
        },
        "id": "-41xhwDK9FQx",
        "outputId": "6023f841-7e85-45bc-f072-ebe2ac83ae81"
      },
      "execution_count": null,
      "outputs": [
        {
          "output_type": "stream",
          "name": "stdout",
          "text": [
            "Classification Report:\n",
            "               precision    recall  f1-score   support\n",
            "\n",
            "           0       0.82      0.81      0.81       547\n",
            "           1       0.96      0.96      0.96      2452\n",
            "\n",
            "    accuracy                           0.93      2999\n",
            "   macro avg       0.89      0.88      0.89      2999\n",
            "weighted avg       0.93      0.93      0.93      2999\n",
            "\n",
            "Confusion Matrix:\n",
            " [[ 442  105]\n",
            " [  97 2355]]\n"
          ]
        }
      ]
    },
    {
      "cell_type": "code",
      "source": [
        "from google.colab import drive\n",
        "drive.mount('/content/drive')"
      ],
      "metadata": {
        "id": "e9ig8E-G_WMj"
      },
      "execution_count": null,
      "outputs": []
    },
    {
      "cell_type": "markdown",
      "source": [
        "# tugas\n"
      ],
      "metadata": {
        "id": "zDydt-As_72O"
      }
    },
    {
      "cell_type": "markdown",
      "source": [],
      "metadata": {
        "id": "guqNKLlwCCux"
      }
    },
    {
      "cell_type": "markdown",
      "source": [
        "1. Import library yang dibutuhkan\n"
      ],
      "metadata": {
        "id": "InV5_B_jCG6D"
      }
    },
    {
      "cell_type": "code",
      "source": [
        "import numpy as np\n",
        "import pandas as pd\n",
        "import matplotlib.pyplot as plt\n",
        "import seaborn as sns\n",
        "from sklearn.datasets import load_iris\n",
        "from sklearn.model_selection import train_test_split\n",
        "from sklearn.preprocessing import StandardScaler\n",
        "from sklearn.neighbors import KNeighborsClassifier\n",
        "from sklearn.metrics import classification_report, confusion_matrix, accuracy_score\n",
        "print (df.head())\n"
      ],
      "metadata": {
        "colab": {
          "base_uri": "https://localhost:8080/"
        },
        "id": "AshDpTt3CLj2",
        "outputId": "1a6aa036-130c-4fa7-d54f-4111170b6dec"
      },
      "execution_count": 9,
      "outputs": [
        {
          "output_type": "stream",
          "name": "stdout",
          "text": [
            "   Row ID        Order ID Order Date  Year     Month  Day       Ship Mode  \\\n",
            "0       1  CA-2016-152156 2016-11-08  2016  November    8    Second Class   \n",
            "1       2  CA-2016-152156 2016-11-08  2016  November    8    Second Class   \n",
            "2       3  CA-2016-138688 2016-06-12  2016      Juni   12    Second Class   \n",
            "3       4  US-2015-108966 2015-10-11  2015   Oktober   11  Standard Class   \n",
            "4       5  US-2015-108966 2015-10-11  2015   Oktober   11  Standard Class   \n",
            "\n",
            "  Customer ID    Customer Name    Segment  ... Region       Product ID  \\\n",
            "0    CG-12520      Claire Gute   Consumer  ...  South  FUR-BO-10001798   \n",
            "1    CG-12520      Claire Gute   Consumer  ...  South  FUR-CH-10000454   \n",
            "2    DV-13045  Darrin Van Huff  Corporate  ...   West  OFF-LA-10000240   \n",
            "3    SO-20335   Sean O'Donnell   Consumer  ...  South  FUR-TA-10000577   \n",
            "4    SO-20335   Sean O'Donnell   Consumer  ...  South  OFF-ST-10000760   \n",
            "\n",
            "          Category  Sub-Category  \\\n",
            "0        Furniture     Bookcases   \n",
            "1        Furniture        Chairs   \n",
            "2  Office Supplies        Labels   \n",
            "3        Furniture        Tables   \n",
            "4  Office Supplies       Storage   \n",
            "\n",
            "                                        Product Name     Sales Quantity  \\\n",
            "0                  Bush Somerset Collection Bookcase  261.9600        2   \n",
            "1  Hon Deluxe Fabric Upholstered Stacking Chairs,...  731.9400        3   \n",
            "2  Self-Adhesive Address Labels for Typewriters b...   14.6200        2   \n",
            "3      Bretford CR4500 Series Slim Rectangular Table  957.5775        5   \n",
            "4                     Eldon Fold 'N Roll Cart System   22.3680        2   \n",
            "\n",
            "  Discount    Profit  Label  \n",
            "0     0.00   41.9136      1  \n",
            "1     0.00  219.5820      1  \n",
            "2     0.00    6.8714      1  \n",
            "3     0.45 -383.0310      0  \n",
            "4     0.20    2.5164      1  \n",
            "\n",
            "[5 rows x 24 columns]\n"
          ]
        }
      ]
    },
    {
      "cell_type": "markdown",
      "source": [
        "2. Load dataset Iris\n"
      ],
      "metadata": {
        "id": "ic-naCTwCdoT"
      }
    },
    {
      "cell_type": "code",
      "source": [
        "iris = load_iris()\n",
        "X = iris.data\n",
        "y = iris.target\n",
        "print (df.head())"
      ],
      "metadata": {
        "colab": {
          "base_uri": "https://localhost:8080/"
        },
        "id": "e-sFrxMACiWj",
        "outputId": "79a7b711-c418-4942-b0b0-215b71c84462"
      },
      "execution_count": 10,
      "outputs": [
        {
          "output_type": "stream",
          "name": "stdout",
          "text": [
            "   Row ID        Order ID Order Date  Year     Month  Day       Ship Mode  \\\n",
            "0       1  CA-2016-152156 2016-11-08  2016  November    8    Second Class   \n",
            "1       2  CA-2016-152156 2016-11-08  2016  November    8    Second Class   \n",
            "2       3  CA-2016-138688 2016-06-12  2016      Juni   12    Second Class   \n",
            "3       4  US-2015-108966 2015-10-11  2015   Oktober   11  Standard Class   \n",
            "4       5  US-2015-108966 2015-10-11  2015   Oktober   11  Standard Class   \n",
            "\n",
            "  Customer ID    Customer Name    Segment  ... Region       Product ID  \\\n",
            "0    CG-12520      Claire Gute   Consumer  ...  South  FUR-BO-10001798   \n",
            "1    CG-12520      Claire Gute   Consumer  ...  South  FUR-CH-10000454   \n",
            "2    DV-13045  Darrin Van Huff  Corporate  ...   West  OFF-LA-10000240   \n",
            "3    SO-20335   Sean O'Donnell   Consumer  ...  South  FUR-TA-10000577   \n",
            "4    SO-20335   Sean O'Donnell   Consumer  ...  South  OFF-ST-10000760   \n",
            "\n",
            "          Category  Sub-Category  \\\n",
            "0        Furniture     Bookcases   \n",
            "1        Furniture        Chairs   \n",
            "2  Office Supplies        Labels   \n",
            "3        Furniture        Tables   \n",
            "4  Office Supplies       Storage   \n",
            "\n",
            "                                        Product Name     Sales Quantity  \\\n",
            "0                  Bush Somerset Collection Bookcase  261.9600        2   \n",
            "1  Hon Deluxe Fabric Upholstered Stacking Chairs,...  731.9400        3   \n",
            "2  Self-Adhesive Address Labels for Typewriters b...   14.6200        2   \n",
            "3      Bretford CR4500 Series Slim Rectangular Table  957.5775        5   \n",
            "4                     Eldon Fold 'N Roll Cart System   22.3680        2   \n",
            "\n",
            "  Discount    Profit  Label  \n",
            "0     0.00   41.9136      1  \n",
            "1     0.00  219.5820      1  \n",
            "2     0.00    6.8714      1  \n",
            "3     0.45 -383.0310      0  \n",
            "4     0.20    2.5164      1  \n",
            "\n",
            "[5 rows x 24 columns]\n"
          ]
        }
      ]
    },
    {
      "cell_type": "markdown",
      "source": [
        "3. Membagi dataset menjadi data latih dan data uji\n"
      ],
      "metadata": {
        "id": "C9HceJ6ZCliW"
      }
    },
    {
      "cell_type": "code",
      "source": [
        "X_train, X_test, y_train, y_test = train_test_split(X, y, test_size=0.2, random_state=42)\n",
        "print (df.head())\n"
      ],
      "metadata": {
        "colab": {
          "base_uri": "https://localhost:8080/"
        },
        "id": "2b5PiBDdEE4i",
        "outputId": "f0cd5e07-debe-4cbb-f38b-2e33eb45a9d2"
      },
      "execution_count": 12,
      "outputs": [
        {
          "output_type": "stream",
          "name": "stdout",
          "text": [
            "   Row ID        Order ID Order Date  Year     Month  Day       Ship Mode  \\\n",
            "0       1  CA-2016-152156 2016-11-08  2016  November    8    Second Class   \n",
            "1       2  CA-2016-152156 2016-11-08  2016  November    8    Second Class   \n",
            "2       3  CA-2016-138688 2016-06-12  2016      Juni   12    Second Class   \n",
            "3       4  US-2015-108966 2015-10-11  2015   Oktober   11  Standard Class   \n",
            "4       5  US-2015-108966 2015-10-11  2015   Oktober   11  Standard Class   \n",
            "\n",
            "  Customer ID    Customer Name    Segment  ... Region       Product ID  \\\n",
            "0    CG-12520      Claire Gute   Consumer  ...  South  FUR-BO-10001798   \n",
            "1    CG-12520      Claire Gute   Consumer  ...  South  FUR-CH-10000454   \n",
            "2    DV-13045  Darrin Van Huff  Corporate  ...   West  OFF-LA-10000240   \n",
            "3    SO-20335   Sean O'Donnell   Consumer  ...  South  FUR-TA-10000577   \n",
            "4    SO-20335   Sean O'Donnell   Consumer  ...  South  OFF-ST-10000760   \n",
            "\n",
            "          Category  Sub-Category  \\\n",
            "0        Furniture     Bookcases   \n",
            "1        Furniture        Chairs   \n",
            "2  Office Supplies        Labels   \n",
            "3        Furniture        Tables   \n",
            "4  Office Supplies       Storage   \n",
            "\n",
            "                                        Product Name     Sales Quantity  \\\n",
            "0                  Bush Somerset Collection Bookcase  261.9600        2   \n",
            "1  Hon Deluxe Fabric Upholstered Stacking Chairs,...  731.9400        3   \n",
            "2  Self-Adhesive Address Labels for Typewriters b...   14.6200        2   \n",
            "3      Bretford CR4500 Series Slim Rectangular Table  957.5775        5   \n",
            "4                     Eldon Fold 'N Roll Cart System   22.3680        2   \n",
            "\n",
            "  Discount    Profit  Label  \n",
            "0     0.00   41.9136      1  \n",
            "1     0.00  219.5820      1  \n",
            "2     0.00    6.8714      1  \n",
            "3     0.45 -383.0310      0  \n",
            "4     0.20    2.5164      1  \n",
            "\n",
            "[5 rows x 24 columns]\n"
          ]
        }
      ]
    },
    {
      "cell_type": "markdown",
      "source": [
        " 4. Normalisasi fitur\n"
      ],
      "metadata": {
        "id": "5-18xRf-ERAK"
      }
    },
    {
      "cell_type": "code",
      "source": [
        "scaler = StandardScaler()\n",
        "X_train = scaler.fit_transform(X_train)\n",
        "X_test = scaler.transform(X_test)\n",
        "print (df.head())\n"
      ],
      "metadata": {
        "colab": {
          "base_uri": "https://localhost:8080/"
        },
        "id": "GudCOS1rEU1x",
        "outputId": "a80df317-00f1-4e40-9d38-9d9d44b5ed7b"
      },
      "execution_count": 13,
      "outputs": [
        {
          "output_type": "stream",
          "name": "stdout",
          "text": [
            "   Row ID        Order ID Order Date  Year     Month  Day       Ship Mode  \\\n",
            "0       1  CA-2016-152156 2016-11-08  2016  November    8    Second Class   \n",
            "1       2  CA-2016-152156 2016-11-08  2016  November    8    Second Class   \n",
            "2       3  CA-2016-138688 2016-06-12  2016      Juni   12    Second Class   \n",
            "3       4  US-2015-108966 2015-10-11  2015   Oktober   11  Standard Class   \n",
            "4       5  US-2015-108966 2015-10-11  2015   Oktober   11  Standard Class   \n",
            "\n",
            "  Customer ID    Customer Name    Segment  ... Region       Product ID  \\\n",
            "0    CG-12520      Claire Gute   Consumer  ...  South  FUR-BO-10001798   \n",
            "1    CG-12520      Claire Gute   Consumer  ...  South  FUR-CH-10000454   \n",
            "2    DV-13045  Darrin Van Huff  Corporate  ...   West  OFF-LA-10000240   \n",
            "3    SO-20335   Sean O'Donnell   Consumer  ...  South  FUR-TA-10000577   \n",
            "4    SO-20335   Sean O'Donnell   Consumer  ...  South  OFF-ST-10000760   \n",
            "\n",
            "          Category  Sub-Category  \\\n",
            "0        Furniture     Bookcases   \n",
            "1        Furniture        Chairs   \n",
            "2  Office Supplies        Labels   \n",
            "3        Furniture        Tables   \n",
            "4  Office Supplies       Storage   \n",
            "\n",
            "                                        Product Name     Sales Quantity  \\\n",
            "0                  Bush Somerset Collection Bookcase  261.9600        2   \n",
            "1  Hon Deluxe Fabric Upholstered Stacking Chairs,...  731.9400        3   \n",
            "2  Self-Adhesive Address Labels for Typewriters b...   14.6200        2   \n",
            "3      Bretford CR4500 Series Slim Rectangular Table  957.5775        5   \n",
            "4                     Eldon Fold 'N Roll Cart System   22.3680        2   \n",
            "\n",
            "  Discount    Profit  Label  \n",
            "0     0.00   41.9136      1  \n",
            "1     0.00  219.5820      1  \n",
            "2     0.00    6.8714      1  \n",
            "3     0.45 -383.0310      0  \n",
            "4     0.20    2.5164      1  \n",
            "\n",
            "[5 rows x 24 columns]\n"
          ]
        }
      ]
    },
    {
      "cell_type": "markdown",
      "source": [
        "5. Membuat dan melatih model KNN\n"
      ],
      "metadata": {
        "id": "bOh__oHREfco"
      }
    },
    {
      "cell_type": "code",
      "source": [
        "knn = KNeighborsClassifier(n_neighbors=3)\n",
        "knn.fit(X_train, y_train)\n",
        "print (df.head())\n",
        "\n"
      ],
      "metadata": {
        "colab": {
          "base_uri": "https://localhost:8080/"
        },
        "id": "9MmPl9MiEqgC",
        "outputId": "de84c8a7-fc76-45e7-a695-e2080da93035"
      },
      "execution_count": 14,
      "outputs": [
        {
          "output_type": "stream",
          "name": "stdout",
          "text": [
            "   Row ID        Order ID Order Date  Year     Month  Day       Ship Mode  \\\n",
            "0       1  CA-2016-152156 2016-11-08  2016  November    8    Second Class   \n",
            "1       2  CA-2016-152156 2016-11-08  2016  November    8    Second Class   \n",
            "2       3  CA-2016-138688 2016-06-12  2016      Juni   12    Second Class   \n",
            "3       4  US-2015-108966 2015-10-11  2015   Oktober   11  Standard Class   \n",
            "4       5  US-2015-108966 2015-10-11  2015   Oktober   11  Standard Class   \n",
            "\n",
            "  Customer ID    Customer Name    Segment  ... Region       Product ID  \\\n",
            "0    CG-12520      Claire Gute   Consumer  ...  South  FUR-BO-10001798   \n",
            "1    CG-12520      Claire Gute   Consumer  ...  South  FUR-CH-10000454   \n",
            "2    DV-13045  Darrin Van Huff  Corporate  ...   West  OFF-LA-10000240   \n",
            "3    SO-20335   Sean O'Donnell   Consumer  ...  South  FUR-TA-10000577   \n",
            "4    SO-20335   Sean O'Donnell   Consumer  ...  South  OFF-ST-10000760   \n",
            "\n",
            "          Category  Sub-Category  \\\n",
            "0        Furniture     Bookcases   \n",
            "1        Furniture        Chairs   \n",
            "2  Office Supplies        Labels   \n",
            "3        Furniture        Tables   \n",
            "4  Office Supplies       Storage   \n",
            "\n",
            "                                        Product Name     Sales Quantity  \\\n",
            "0                  Bush Somerset Collection Bookcase  261.9600        2   \n",
            "1  Hon Deluxe Fabric Upholstered Stacking Chairs,...  731.9400        3   \n",
            "2  Self-Adhesive Address Labels for Typewriters b...   14.6200        2   \n",
            "3      Bretford CR4500 Series Slim Rectangular Table  957.5775        5   \n",
            "4                     Eldon Fold 'N Roll Cart System   22.3680        2   \n",
            "\n",
            "  Discount    Profit  Label  \n",
            "0     0.00   41.9136      1  \n",
            "1     0.00  219.5820      1  \n",
            "2     0.00    6.8714      1  \n",
            "3     0.45 -383.0310      0  \n",
            "4     0.20    2.5164      1  \n",
            "\n",
            "[5 rows x 24 columns]\n"
          ]
        }
      ]
    },
    {
      "cell_type": "markdown",
      "source": [
        "6. Melakukan prediksi\n",
        "\n"
      ],
      "metadata": {
        "id": "1hTkJygqEyuN"
      }
    },
    {
      "cell_type": "code",
      "source": [
        "y_pred = knn.predict(X_test)\n",
        "print (df.head())"
      ],
      "metadata": {
        "colab": {
          "base_uri": "https://localhost:8080/"
        },
        "id": "tMjfY5jlE4hp",
        "outputId": "45ecc528-570f-4c71-cc74-c25879f593c6"
      },
      "execution_count": 15,
      "outputs": [
        {
          "output_type": "stream",
          "name": "stdout",
          "text": [
            "   Row ID        Order ID Order Date  Year     Month  Day       Ship Mode  \\\n",
            "0       1  CA-2016-152156 2016-11-08  2016  November    8    Second Class   \n",
            "1       2  CA-2016-152156 2016-11-08  2016  November    8    Second Class   \n",
            "2       3  CA-2016-138688 2016-06-12  2016      Juni   12    Second Class   \n",
            "3       4  US-2015-108966 2015-10-11  2015   Oktober   11  Standard Class   \n",
            "4       5  US-2015-108966 2015-10-11  2015   Oktober   11  Standard Class   \n",
            "\n",
            "  Customer ID    Customer Name    Segment  ... Region       Product ID  \\\n",
            "0    CG-12520      Claire Gute   Consumer  ...  South  FUR-BO-10001798   \n",
            "1    CG-12520      Claire Gute   Consumer  ...  South  FUR-CH-10000454   \n",
            "2    DV-13045  Darrin Van Huff  Corporate  ...   West  OFF-LA-10000240   \n",
            "3    SO-20335   Sean O'Donnell   Consumer  ...  South  FUR-TA-10000577   \n",
            "4    SO-20335   Sean O'Donnell   Consumer  ...  South  OFF-ST-10000760   \n",
            "\n",
            "          Category  Sub-Category  \\\n",
            "0        Furniture     Bookcases   \n",
            "1        Furniture        Chairs   \n",
            "2  Office Supplies        Labels   \n",
            "3        Furniture        Tables   \n",
            "4  Office Supplies       Storage   \n",
            "\n",
            "                                        Product Name     Sales Quantity  \\\n",
            "0                  Bush Somerset Collection Bookcase  261.9600        2   \n",
            "1  Hon Deluxe Fabric Upholstered Stacking Chairs,...  731.9400        3   \n",
            "2  Self-Adhesive Address Labels for Typewriters b...   14.6200        2   \n",
            "3      Bretford CR4500 Series Slim Rectangular Table  957.5775        5   \n",
            "4                     Eldon Fold 'N Roll Cart System   22.3680        2   \n",
            "\n",
            "  Discount    Profit  Label  \n",
            "0     0.00   41.9136      1  \n",
            "1     0.00  219.5820      1  \n",
            "2     0.00    6.8714      1  \n",
            "3     0.45 -383.0310      0  \n",
            "4     0.20    2.5164      1  \n",
            "\n",
            "[5 rows x 24 columns]\n"
          ]
        }
      ]
    },
    {
      "cell_type": "markdown",
      "source": [
        "7. Evaluasi hasil prediksi\n"
      ],
      "metadata": {
        "id": "r6Olu8lVFATo"
      }
    },
    {
      "cell_type": "code",
      "source": [
        "print(\"Akurasi:\", accuracy_score(y_test, y_pred))\n",
        "print(\"\\nConfusion Matrix:\\n\", confusion_matrix(y_test, y_pred))\n",
        "print(\"\\nClassification Report:\\n\", classification_report(y_test, y_pred))\n",
        "print (df.head())"
      ],
      "metadata": {
        "colab": {
          "base_uri": "https://localhost:8080/"
        },
        "id": "Kt0jVnsRFGF_",
        "outputId": "3dfb7eba-f2be-4113-80be-b545876e25f4"
      },
      "execution_count": 16,
      "outputs": [
        {
          "output_type": "stream",
          "name": "stdout",
          "text": [
            "Akurasi: 1.0\n",
            "\n",
            "Confusion Matrix:\n",
            " [[10  0  0]\n",
            " [ 0  9  0]\n",
            " [ 0  0 11]]\n",
            "\n",
            "Classification Report:\n",
            "               precision    recall  f1-score   support\n",
            "\n",
            "           0       1.00      1.00      1.00        10\n",
            "           1       1.00      1.00      1.00         9\n",
            "           2       1.00      1.00      1.00        11\n",
            "\n",
            "    accuracy                           1.00        30\n",
            "   macro avg       1.00      1.00      1.00        30\n",
            "weighted avg       1.00      1.00      1.00        30\n",
            "\n",
            "   Row ID        Order ID Order Date  Year     Month  Day       Ship Mode  \\\n",
            "0       1  CA-2016-152156 2016-11-08  2016  November    8    Second Class   \n",
            "1       2  CA-2016-152156 2016-11-08  2016  November    8    Second Class   \n",
            "2       3  CA-2016-138688 2016-06-12  2016      Juni   12    Second Class   \n",
            "3       4  US-2015-108966 2015-10-11  2015   Oktober   11  Standard Class   \n",
            "4       5  US-2015-108966 2015-10-11  2015   Oktober   11  Standard Class   \n",
            "\n",
            "  Customer ID    Customer Name    Segment  ... Region       Product ID  \\\n",
            "0    CG-12520      Claire Gute   Consumer  ...  South  FUR-BO-10001798   \n",
            "1    CG-12520      Claire Gute   Consumer  ...  South  FUR-CH-10000454   \n",
            "2    DV-13045  Darrin Van Huff  Corporate  ...   West  OFF-LA-10000240   \n",
            "3    SO-20335   Sean O'Donnell   Consumer  ...  South  FUR-TA-10000577   \n",
            "4    SO-20335   Sean O'Donnell   Consumer  ...  South  OFF-ST-10000760   \n",
            "\n",
            "          Category  Sub-Category  \\\n",
            "0        Furniture     Bookcases   \n",
            "1        Furniture        Chairs   \n",
            "2  Office Supplies        Labels   \n",
            "3        Furniture        Tables   \n",
            "4  Office Supplies       Storage   \n",
            "\n",
            "                                        Product Name     Sales Quantity  \\\n",
            "0                  Bush Somerset Collection Bookcase  261.9600        2   \n",
            "1  Hon Deluxe Fabric Upholstered Stacking Chairs,...  731.9400        3   \n",
            "2  Self-Adhesive Address Labels for Typewriters b...   14.6200        2   \n",
            "3      Bretford CR4500 Series Slim Rectangular Table  957.5775        5   \n",
            "4                     Eldon Fold 'N Roll Cart System   22.3680        2   \n",
            "\n",
            "  Discount    Profit  Label  \n",
            "0     0.00   41.9136      1  \n",
            "1     0.00  219.5820      1  \n",
            "2     0.00    6.8714      1  \n",
            "3     0.45 -383.0310      0  \n",
            "4     0.20    2.5164      1  \n",
            "\n",
            "[5 rows x 24 columns]\n"
          ]
        }
      ]
    },
    {
      "cell_type": "markdown",
      "source": [],
      "metadata": {
        "id": "dlQqcnluFbdv"
      }
    },
    {
      "cell_type": "markdown",
      "source": [
        "8. Visualisasi Confusion Matrix\n"
      ],
      "metadata": {
        "id": "n8nw9aiWFQ7o"
      }
    },
    {
      "cell_type": "code",
      "source": [
        "plt.figure(figsize=(6,4))\n",
        "sns.heatmap(confusion_matrix(y_test, y_pred), annot=True, cmap='Blues', fmt='g')\n",
        "plt.title('Confusion Matrix')\n",
        "plt.xlabel('Predicted')\n",
        "plt.ylabel('Actual')\n",
        "plt.show()\n",
        "print (df.head())\n"
      ],
      "metadata": {
        "colab": {
          "base_uri": "https://localhost:8080/",
          "height": 1000
        },
        "id": "2R7eQDFUFc89",
        "outputId": "47d65de7-c265-4474-925e-7a04bb801a79"
      },
      "execution_count": 17,
      "outputs": [
        {
          "output_type": "display_data",
          "data": {
            "text/plain": [
              "<Figure size 600x400 with 2 Axes>"
            ],
            "image/png": "[encoded data removed]"
          },
          "metadata": {}
        },
        {
          "output_type": "stream",
          "name": "stdout",
          "text": [
            "   Row ID        Order ID Order Date  Year     Month  Day       Ship Mode  \\\n",
            "0       1  CA-2016-152156 2016-11-08  2016  November    8    Second Class   \n",
            "1       2  CA-2016-152156 2016-11-08  2016  November    8    Second Class   \n",
            "2       3  CA-2016-138688 2016-06-12  2016      Juni   12    Second Class   \n",
            "3       4  US-2015-108966 2015-10-11  2015   Oktober   11  Standard Class   \n",
            "4       5  US-2015-108966 2015-10-11  2015   Oktober   11  Standard Class   \n",
            "\n",
            "  Customer ID    Customer Name    Segment  ... Region       Product ID  \\\n",
            "0    CG-12520      Claire Gute   Consumer  ...  South  FUR-BO-10001798   \n",
            "1    CG-12520      Claire Gute   Consumer  ...  South  FUR-CH-10000454   \n",
            "2    DV-13045  Darrin Van Huff  Corporate  ...   West  OFF-LA-10000240   \n",
            "3    SO-20335   Sean O'Donnell   Consumer  ...  South  FUR-TA-10000577   \n",
            "4    SO-20335   Sean O'Donnell   Consumer  ...  South  OFF-ST-10000760   \n",
            "\n",
            "          Category  Sub-Category  \\\n",
            "0        Furniture     Bookcases   \n",
            "1        Furniture        Chairs   \n",
            "2  Office Supplies        Labels   \n",
            "3        Furniture        Tables   \n",
            "4  Office Supplies       Storage   \n",
            "\n",
            "                                        Product Name     Sales Quantity  \\\n",
            "0                  Bush Somerset Collection Bookcase  261.9600        2   \n",
            "1  Hon Deluxe Fabric Upholstered Stacking Chairs,...  731.9400        3   \n",
            "2  Self-Adhesive Address Labels for Typewriters b...   14.6200        2   \n",
            "3      Bretford CR4500 Series Slim Rectangular Table  957.5775        5   \n",
            "4                     Eldon Fold 'N Roll Cart System   22.3680        2   \n",
            "\n",
            "  Discount    Profit  Label  \n",
            "0     0.00   41.9136      1  \n",
            "1     0.00  219.5820      1  \n",
            "2     0.00    6.8714      1  \n",
            "3     0.45 -383.0310      0  \n",
            "4     0.20    2.5164      1  \n",
            "\n",
            "[5 rows x 24 columns]\n"
          ]
        }
      ]
    },
    {
      "cell_type": "markdown",
      "source": [
        "tugas\n"
      ],
      "metadata": {
        "id": "ope8ina_IULx"
      }
    },
    {
      "cell_type": "markdown",
      "source": [
        "# 1. Import library\n"
      ],
      "metadata": {
        "id": "FwrVRbJ6IVzL"
      }
    },
    {
      "cell_type": "code",
      "source": [
        "import pandas as pd\n",
        "from sklearn.svm import SVC\n",
        "from sklearn.model_selection import train_test_split\n",
        "from sklearn.preprocessing import StandardScaler\n",
        "from sklearn.metrics import classification_report, confusion_matrix, accuracy_score\n",
        "print (df.head())"
      ],
      "metadata": {
        "colab": {
          "base_uri": "https://localhost:8080/"
        },
        "id": "5ugU1JHAIXoX",
        "outputId": "6c5c5be4-25cd-4dc2-bb2e-455f2ee179e8"
      },
      "execution_count": 19,
      "outputs": [
        {
          "output_type": "stream",
          "name": "stdout",
          "text": [
            "   Row ID        Order ID Order Date  Year     Month  Day       Ship Mode  \\\n",
            "0       1  CA-2016-152156 2016-11-08  2016  November    8    Second Class   \n",
            "1       2  CA-2016-152156 2016-11-08  2016  November    8    Second Class   \n",
            "2       3  CA-2016-138688 2016-06-12  2016      Juni   12    Second Class   \n",
            "3       4  US-2015-108966 2015-10-11  2015   Oktober   11  Standard Class   \n",
            "4       5  US-2015-108966 2015-10-11  2015   Oktober   11  Standard Class   \n",
            "\n",
            "  Customer ID    Customer Name    Segment  ... Region       Product ID  \\\n",
            "0    CG-12520      Claire Gute   Consumer  ...  South  FUR-BO-10001798   \n",
            "1    CG-12520      Claire Gute   Consumer  ...  South  FUR-CH-10000454   \n",
            "2    DV-13045  Darrin Van Huff  Corporate  ...   West  OFF-LA-10000240   \n",
            "3    SO-20335   Sean O'Donnell   Consumer  ...  South  FUR-TA-10000577   \n",
            "4    SO-20335   Sean O'Donnell   Consumer  ...  South  OFF-ST-10000760   \n",
            "\n",
            "          Category  Sub-Category  \\\n",
            "0        Furniture     Bookcases   \n",
            "1        Furniture        Chairs   \n",
            "2  Office Supplies        Labels   \n",
            "3        Furniture        Tables   \n",
            "4  Office Supplies       Storage   \n",
            "\n",
            "                                        Product Name     Sales Quantity  \\\n",
            "0                  Bush Somerset Collection Bookcase  261.9600        2   \n",
            "1  Hon Deluxe Fabric Upholstered Stacking Chairs,...  731.9400        3   \n",
            "2  Self-Adhesive Address Labels for Typewriters b...   14.6200        2   \n",
            "3      Bretford CR4500 Series Slim Rectangular Table  957.5775        5   \n",
            "4                     Eldon Fold 'N Roll Cart System   22.3680        2   \n",
            "\n",
            "  Discount    Profit  Label  \n",
            "0     0.00   41.9136      1  \n",
            "1     0.00  219.5820      1  \n",
            "2     0.00    6.8714      1  \n",
            "3     0.45 -383.0310      0  \n",
            "4     0.20    2.5164      1  \n",
            "\n",
            "[5 rows x 24 columns]\n"
          ]
        }
      ]
    },
    {
      "cell_type": "markdown",
      "source": [
        "# 2. Load data\n"
      ],
      "metadata": {
        "id": "KiWHMF1oIlJ_"
      }
    },
    {
      "cell_type": "code",
      "source": [
        "df = pd.read_excel(\"Datasets Superstore.xlsx\") # Add the filename and any necessary arguments to pd.read_excel\n"
      ],
      "metadata": {
        "id": "l7CDCe4TI1El"
      },
      "execution_count": 35,
      "outputs": []
    },
    {
      "cell_type": "markdown",
      "source": [
        "# 3. Label: Profit > 0 = 1, else 0\n",
        "\n"
      ],
      "metadata": {
        "id": "lKQj1yaiJfh_"
      }
    },
    {
      "cell_type": "code",
      "source": [
        "df['Label'] = df['Profit'].apply(lambda x: 1 if x > 0 else 0)\n",
        "print(df.head())"
      ],
      "metadata": {
        "colab": {
          "base_uri": "https://localhost:8080/"
        },
        "id": "bTHvjidUJp3i",
        "outputId": "d13851cb-ca02-405b-b8f5-c61370433a56"
      },
      "execution_count": 30,
      "outputs": [
        {
          "output_type": "stream",
          "name": "stdout",
          "text": [
            "   Row ID        Order ID Order Date  Year     Month  Day       Ship Mode  \\\n",
            "0       1  CA-2016-152156 2016-11-08  2016  November    8    Second Class   \n",
            "1       2  CA-2016-152156 2016-11-08  2016  November    8    Second Class   \n",
            "2       3  CA-2016-138688 2016-06-12  2016      Juni   12    Second Class   \n",
            "3       4  US-2015-108966 2015-10-11  2015   Oktober   11  Standard Class   \n",
            "4       5  US-2015-108966 2015-10-11  2015   Oktober   11  Standard Class   \n",
            "\n",
            "  Customer ID    Customer Name    Segment  ... Region       Product ID  \\\n",
            "0    CG-12520      Claire Gute   Consumer  ...  South  FUR-BO-10001798   \n",
            "1    CG-12520      Claire Gute   Consumer  ...  South  FUR-CH-10000454   \n",
            "2    DV-13045  Darrin Van Huff  Corporate  ...   West  OFF-LA-10000240   \n",
            "3    SO-20335   Sean O'Donnell   Consumer  ...  South  FUR-TA-10000577   \n",
            "4    SO-20335   Sean O'Donnell   Consumer  ...  South  OFF-ST-10000760   \n",
            "\n",
            "          Category  Sub-Category  \\\n",
            "0        Furniture     Bookcases   \n",
            "1        Furniture        Chairs   \n",
            "2  Office Supplies        Labels   \n",
            "3        Furniture        Tables   \n",
            "4  Office Supplies       Storage   \n",
            "\n",
            "                                        Product Name     Sales Quantity  \\\n",
            "0                  Bush Somerset Collection Bookcase  261.9600        2   \n",
            "1  Hon Deluxe Fabric Upholstered Stacking Chairs,...  731.9400        3   \n",
            "2  Self-Adhesive Address Labels for Typewriters b...   14.6200        2   \n",
            "3      Bretford CR4500 Series Slim Rectangular Table  957.5775        5   \n",
            "4                     Eldon Fold 'N Roll Cart System   22.3680        2   \n",
            "\n",
            "  Discount    Profit  Label  \n",
            "0     0.00   41.9136      1  \n",
            "1     0.00  219.5820      1  \n",
            "2     0.00    6.8714      1  \n",
            "3     0.45 -383.0310      0  \n",
            "4     0.20    2.5164      1  \n",
            "\n",
            "[5 rows x 24 columns]\n"
          ]
        }
      ]
    },
    {
      "cell_type": "markdown",
      "source": [
        "# 4. Fitur & label\n",
        "\n"
      ],
      "metadata": {
        "id": "ROEe9nepLrze"
      }
    },
    {
      "cell_type": "code",
      "source": [
        "features = df[['Sales', 'Discount', 'Quantity']].fillna(0)\n",
        "labels = df['Label']\n"
      ],
      "metadata": {
        "id": "CM1ILEtUL1DO"
      },
      "execution_count": 31,
      "outputs": []
    },
    {
      "cell_type": "markdown",
      "source": [
        "# 5. Split data\n"
      ],
      "metadata": {
        "id": "z2okkZ-fL3XJ"
      }
    },
    {
      "cell_type": "code",
      "source": [
        "X_train, X_test, y_train, y_test = train_test_split(features, labels, test_size=0.3, random_state=42)\n"
      ],
      "metadata": {
        "id": "18HT-N3ZL-WT"
      },
      "execution_count": 32,
      "outputs": []
    },
    {
      "cell_type": "markdown",
      "source": [
        "# 6. Scaling data\n"
      ],
      "metadata": {
        "id": "AxiQTFwpMLv5"
      }
    },
    {
      "cell_type": "code",
      "source": [
        "scaler = StandardScaler()\n",
        "X_train_scaled = scaler.fit_transform(X_train)\n",
        "X_test_scaled = scaler.transform(X_test)\n"
      ],
      "metadata": {
        "id": "PjPzA7ChMQeI"
      },
      "execution_count": 33,
      "outputs": []
    },
    {
      "cell_type": "markdown",
      "source": [
        "# 7. Model SVM\n",
        "\n",
        "\n"
      ],
      "metadata": {
        "id": "5WRBVsw0MW6Z"
      }
    },
    {
      "cell_type": "code",
      "source": [
        "svm_model = SVC(kernel='rbf')\n",
        "svm_model.fit(X_train_scaled, y_train)"
      ],
      "metadata": {
        "colab": {
          "base_uri": "https://localhost:8080/",
          "height": 80
        },
        "id": "ru8yLrO-Me3D",
        "outputId": "8f5a2887-8379-4715-f0fe-59919ee44ba0"
      },
      "execution_count": 34,
      "outputs": [
        {
          "output_type": "execute_result",
          "data": {
            "text/plain": [
              "SVC()"
            ],
            "text/html": [
              "<style>#sk-container-id-1 {\n",
              "  /* Definition of color scheme common for light and dark mode */\n",
              "  --sklearn-color-text: #000;\n",
              "  --sklearn-color-text-muted: #666;\n",
              "  --sklearn-color-line: gray;\n",
              "  /* Definition of color scheme for unfitted estimators */\n",
              "  --sklearn-color-unfitted-level-0: #fff5e6;\n",
              "  --sklearn-color-unfitted-level-1: #f6e4d2;\n",
              "  --sklearn-color-unfitted-level-2: #ffe0b3;\n",
              "  --sklearn-color-unfitted-level-3: chocolate;\n",
              "  /* Definition of color scheme for fitted estimators */\n",
              "  --sklearn-color-fitted-level-0: #f0f8ff;\n",
              "  --sklearn-color-fitted-level-1: #d4ebff;\n",
              "  --sklearn-color-fitted-level-2: #b3dbfd;\n",
              "  --sklearn-color-fitted-level-3: cornflowerblue;\n",
              "\n",
              "  /* Specific color for light theme */\n",
              "  --sklearn-color-text-on-default-background: var(--sg-text-color, var(--theme-code-foreground, var(--jp-content-font-color1, black)));\n",
              "  --sklearn-color-background: var(--sg-background-color, var(--theme-background, var(--jp-layout-color0, white)));\n",
              "  --sklearn-color-border-box: var(--sg-text-color, var(--theme-code-foreground, var(--jp-content-font-color1, black)));\n",
              "  --sklearn-color-icon: #696969;\n",
              "\n",
              "  @media (prefers-color-scheme: dark) {\n",
              "    /* Redefinition of color scheme for dark theme */\n",
              "    --sklearn-color-text-on-default-background: var(--sg-text-color, var(--theme-code-foreground, var(--jp-content-font-color1, white)));\n",
              "    --sklearn-color-background: var(--sg-background-color, var(--theme-background, var(--jp-layout-color0, #111)));\n",
              "    --sklearn-color-border-box: var(--sg-text-color, var(--theme-code-foreground, var(--jp-content-font-color1, white)));\n",
              "    --sklearn-color-icon: #878787;\n",
              "  }\n",
              "}\n",
              "\n",
              "#sk-container-id-1 {\n",
              "  color: var(--sklearn-color-text);\n",
              "}\n",
              "\n",
              "#sk-container-id-1 pre {\n",
              "  padding: 0;\n",
              "}\n",
              "\n",
              "#sk-container-id-1 input.sk-hidden--visually {\n",
              "  border: 0;\n",
              "  clip: rect(1px 1px 1px 1px);\n",
              "  clip: rect(1px, 1px, 1px, 1px);\n",
              "  height: 1px;\n",
              "  margin: -1px;\n",
              "  overflow: hidden;\n",
              "  padding: 0;\n",
              "  position: absolute;\n",
              "  width: 1px;\n",
              "}\n",
              "\n",
              "#sk-container-id-1 div.sk-dashed-wrapped {\n",
              "  border: 1px dashed var(--sklearn-color-line);\n",
              "  margin: 0 0.4em 0.5em 0.4em;\n",
              "  box-sizing: border-box;\n",
              "  padding-bottom: 0.4em;\n",
              "  background-color: var(--sklearn-color-background);\n",
              "}\n",
              "\n",
              "#sk-container-id-1 div.sk-container {\n",
              "  /* jupyter's `normalize.less` sets `[hidden] { display: none; }`\n",
              "     but bootstrap.min.css set `[hidden] { display: none !important; }`\n",
              "     so we also need the `!important` here to be able to override the\n",
              "     default hidden behavior on the sphinx rendered scikit-learn.org.\n",
              "     See: https://github.com/scikit-learn/scikit-learn/issues/21755 */\n",
              "  display: inline-block !important;\n",
              "  position: relative;\n",
              "}\n",
              "\n",
              "#sk-container-id-1 div.sk-text-repr-fallback {\n",
              "  display: none;\n",
              "}\n",
              "\n",
              "div.sk-parallel-item,\n",
              "div.sk-serial,\n",
              "div.sk-item {\n",
              "  /* draw centered vertical line to link estimators */\n",
              "  background-image: linear-gradient(var(--sklearn-color-text-on-default-background), var(--sklearn-color-text-on-default-background));\n",
              "  background-size: 2px 100%;\n",
              "  background-repeat: no-repeat;\n",
              "  background-position: center center;\n",
              "}\n",
              "\n",
              "/* Parallel-specific style estimator block */\n",
              "\n",
              "#sk-container-id-1 div.sk-parallel-item::after {\n",
              "  content: \"\";\n",
              "  width: 100%;\n",
              "  border-bottom: 2px solid var(--sklearn-color-text-on-default-background);\n",
              "  flex-grow: 1;\n",
              "}\n",
              "\n",
              "#sk-container-id-1 div.sk-parallel {\n",
              "  display: flex;\n",
              "  align-items: stretch;\n",
              "  justify-content: center;\n",
              "  background-color: var(--sklearn-color-background);\n",
              "  position: relative;\n",
              "}\n",
              "\n",
              "#sk-container-id-1 div.sk-parallel-item {\n",
              "  display: flex;\n",
              "  flex-direction: column;\n",
              "}\n",
              "\n",
              "#sk-container-id-1 div.sk-parallel-item:first-child::after {\n",
              "  align-self: flex-end;\n",
              "  width: 50%;\n",
              "}\n",
              "\n",
              "#sk-container-id-1 div.sk-parallel-item:last-child::after {\n",
              "  align-self: flex-start;\n",
              "  width: 50%;\n",
              "}\n",
              "\n",
              "#sk-container-id-1 div.sk-parallel-item:only-child::after {\n",
              "  width: 0;\n",
              "}\n",
              "\n",
              "/* Serial-specific style estimator block */\n",
              "\n",
              "#sk-container-id-1 div.sk-serial {\n",
              "  display: flex;\n",
              "  flex-direction: column;\n",
              "  align-items: center;\n",
              "  background-color: var(--sklearn-color-background);\n",
              "  padding-right: 1em;\n",
              "  padding-left: 1em;\n",
              "}\n",
              "\n",
              "\n",
              "/* Toggleable style: style used for estimator/Pipeline/ColumnTransformer box that is\n",
              "clickable and can be expanded/collapsed.\n",
              "- Pipeline and ColumnTransformer use this feature and define the default style\n",
              "- Estimators will overwrite some part of the style using the `sk-estimator` class\n",
              "*/\n",
              "\n",
              "/* Pipeline and ColumnTransformer style (default) */\n",
              "\n",
              "#sk-container-id-1 div.sk-toggleable {\n",
              "  /* Default theme specific background. It is overwritten whether we have a\n",
              "  specific estimator or a Pipeline/ColumnTransformer */\n",
              "  background-color: var(--sklearn-color-background);\n",
              "}\n",
              "\n",
              "/* Toggleable label */\n",
              "#sk-container-id-1 label.sk-toggleable__label {\n",
              "  cursor: pointer;\n",
              "  display: flex;\n",
              "  width: 100%;\n",
              "  margin-bottom: 0;\n",
              "  padding: 0.5em;\n",
              "  box-sizing: border-box;\n",
              "  text-align: center;\n",
              "  align-items: start;\n",
              "  justify-content: space-between;\n",
              "  gap: 0.5em;\n",
              "}\n",
              "\n",
              "#sk-container-id-1 label.sk-toggleable__label .caption {\n",
              "  font-size: 0.6rem;\n",
              "  font-weight: lighter;\n",
              "  color: var(--sklearn-color-text-muted);\n",
              "}\n",
              "\n",
              "#sk-container-id-1 label.sk-toggleable__label-arrow:before {\n",
              "  /* Arrow on the left of the label */\n",
              "  content: \"▸\";\n",
              "  float: left;\n",
              "  margin-right: 0.25em;\n",
              "  color: var(--sklearn-color-icon);\n",
              "}\n",
              "\n",
              "#sk-container-id-1 label.sk-toggleable__label-arrow:hover:before {\n",
              "  color: var(--sklearn-color-text);\n",
              "}\n",
              "\n",
              "/* Toggleable content - dropdown */\n",
              "\n",
              "#sk-container-id-1 div.sk-toggleable__content {\n",
              "  max-height: 0;\n",
              "  max-width: 0;\n",
              "  overflow: hidden;\n",
              "  text-align: left;\n",
              "  /* unfitted */\n",
              "  background-color: var(--sklearn-color-unfitted-level-0);\n",
              "}\n",
              "\n",
              "#sk-container-id-1 div.sk-toggleable__content.fitted {\n",
              "  /* fitted */\n",
              "  background-color: var(--sklearn-color-fitted-level-0);\n",
              "}\n",
              "\n",
              "#sk-container-id-1 div.sk-toggleable__content pre {\n",
              "  margin: 0.2em;\n",
              "  border-radius: 0.25em;\n",
              "  color: var(--sklearn-color-text);\n",
              "  /* unfitted */\n",
              "  background-color: var(--sklearn-color-unfitted-level-0);\n",
              "}\n",
              "\n",
              "#sk-container-id-1 div.sk-toggleable__content.fitted pre {\n",
              "  /* unfitted */\n",
              "  background-color: var(--sklearn-color-fitted-level-0);\n",
              "}\n",
              "\n",
              "#sk-container-id-1 input.sk-toggleable__control:checked~div.sk-toggleable__content {\n",
              "  /* Expand drop-down */\n",
              "  max-height: 200px;\n",
              "  max-width: 100%;\n",
              "  overflow: auto;\n",
              "}\n",
              "\n",
              "#sk-container-id-1 input.sk-toggleable__control:checked~label.sk-toggleable__label-arrow:before {\n",
              "  content: \"▾\";\n",
              "}\n",
              "\n",
              "/* Pipeline/ColumnTransformer-specific style */\n",
              "\n",
              "#sk-container-id-1 div.sk-label input.sk-toggleable__control:checked~label.sk-toggleable__label {\n",
              "  color: var(--sklearn-color-text);\n",
              "  background-color: var(--sklearn-color-unfitted-level-2);\n",
              "}\n",
              "\n",
              "#sk-container-id-1 div.sk-label.fitted input.sk-toggleable__control:checked~label.sk-toggleable__label {\n",
              "  background-color: var(--sklearn-color-fitted-level-2);\n",
              "}\n",
              "\n",
              "/* Estimator-specific style */\n",
              "\n",
              "/* Colorize estimator box */\n",
              "#sk-container-id-1 div.sk-estimator input.sk-toggleable__control:checked~label.sk-toggleable__label {\n",
              "  /* unfitted */\n",
              "  background-color: var(--sklearn-color-unfitted-level-2);\n",
              "}\n",
              "\n",
              "#sk-container-id-1 div.sk-estimator.fitted input.sk-toggleable__control:checked~label.sk-toggleable__label {\n",
              "  /* fitted */\n",
              "  background-color: var(--sklearn-color-fitted-level-2);\n",
              "}\n",
              "\n",
              "#sk-container-id-1 div.sk-label label.sk-toggleable__label,\n",
              "#sk-container-id-1 div.sk-label label {\n",
              "  /* The background is the default theme color */\n",
              "  color: var(--sklearn-color-text-on-default-background);\n",
              "}\n",
              "\n",
              "/* On hover, darken the color of the background */\n",
              "#sk-container-id-1 div.sk-label:hover label.sk-toggleable__label {\n",
              "  color: var(--sklearn-color-text);\n",
              "  background-color: var(--sklearn-color-unfitted-level-2);\n",
              "}\n",
              "\n",
              "/* Label box, darken color on hover, fitted */\n",
              "#sk-container-id-1 div.sk-label.fitted:hover label.sk-toggleable__label.fitted {\n",
              "  color: var(--sklearn-color-text);\n",
              "  background-color: var(--sklearn-color-fitted-level-2);\n",
              "}\n",
              "\n",
              "/* Estimator label */\n",
              "\n",
              "#sk-container-id-1 div.sk-label label {\n",
              "  font-family: monospace;\n",
              "  font-weight: bold;\n",
              "  display: inline-block;\n",
              "  line-height: 1.2em;\n",
              "}\n",
              "\n",
              "#sk-container-id-1 div.sk-label-container {\n",
              "  text-align: center;\n",
              "}\n",
              "\n",
              "/* Estimator-specific */\n",
              "#sk-container-id-1 div.sk-estimator {\n",
              "  font-family: monospace;\n",
              "  border: 1px dotted var(--sklearn-color-border-box);\n",
              "  border-radius: 0.25em;\n",
              "  box-sizing: border-box;\n",
              "  margin-bottom: 0.5em;\n",
              "  /* unfitted */\n",
              "  background-color: var(--sklearn-color-unfitted-level-0);\n",
              "}\n",
              "\n",
              "#sk-container-id-1 div.sk-estimator.fitted {\n",
              "  /* fitted */\n",
              "  background-color: var(--sklearn-color-fitted-level-0);\n",
              "}\n",
              "\n",
              "/* on hover */\n",
              "#sk-container-id-1 div.sk-estimator:hover {\n",
              "  /* unfitted */\n",
              "  background-color: var(--sklearn-color-unfitted-level-2);\n",
              "}\n",
              "\n",
              "#sk-container-id-1 div.sk-estimator.fitted:hover {\n",
              "  /* fitted */\n",
              "  background-color: var(--sklearn-color-fitted-level-2);\n",
              "}\n",
              "\n",
              "/* Specification for estimator info (e.g. \"i\" and \"?\") */\n",
              "\n",
              "/* Common style for \"i\" and \"?\" */\n",
              "\n",
              ".sk-estimator-doc-link,\n",
              "a:link.sk-estimator-doc-link,\n",
              "a:visited.sk-estimator-doc-link {\n",
              "  float: right;\n",
              "  font-size: smaller;\n",
              "  line-height: 1em;\n",
              "  font-family: monospace;\n",
              "  background-color: var(--sklearn-color-background);\n",
              "  border-radius: 1em;\n",
              "  height: 1em;\n",
              "  width: 1em;\n",
              "  text-decoration: none !important;\n",
              "  margin-left: 0.5em;\n",
              "  text-align: center;\n",
              "  /* unfitted */\n",
              "  border: var(--sklearn-color-unfitted-level-1) 1pt solid;\n",
              "  color: var(--sklearn-color-unfitted-level-1);\n",
              "}\n",
              "\n",
              ".sk-estimator-doc-link.fitted,\n",
              "a:link.sk-estimator-doc-link.fitted,\n",
              "a:visited.sk-estimator-doc-link.fitted {\n",
              "  /* fitted */\n",
              "  border: var(--sklearn-color-fitted-level-1) 1pt solid;\n",
              "  color: var(--sklearn-color-fitted-level-1);\n",
              "}\n",
              "\n",
              "/* On hover */\n",
              "div.sk-estimator:hover .sk-estimator-doc-link:hover,\n",
              ".sk-estimator-doc-link:hover,\n",
              "div.sk-label-container:hover .sk-estimator-doc-link:hover,\n",
              ".sk-estimator-doc-link:hover {\n",
              "  /* unfitted */\n",
              "  background-color: var(--sklearn-color-unfitted-level-3);\n",
              "  color: var(--sklearn-color-background);\n",
              "  text-decoration: none;\n",
              "}\n",
              "\n",
              "div.sk-estimator.fitted:hover .sk-estimator-doc-link.fitted:hover,\n",
              ".sk-estimator-doc-link.fitted:hover,\n",
              "div.sk-label-container:hover .sk-estimator-doc-link.fitted:hover,\n",
              ".sk-estimator-doc-link.fitted:hover {\n",
              "  /* fitted */\n",
              "  background-color: var(--sklearn-color-fitted-level-3);\n",
              "  color: var(--sklearn-color-background);\n",
              "  text-decoration: none;\n",
              "}\n",
              "\n",
              "/* Span, style for the box shown on hovering the info icon */\n",
              ".sk-estimator-doc-link span {\n",
              "  display: none;\n",
              "  z-index: 9999;\n",
              "  position: relative;\n",
              "  font-weight: normal;\n",
              "  right: .2ex;\n",
              "  padding: .5ex;\n",
              "  margin: .5ex;\n",
              "  width: min-content;\n",
              "  min-width: 20ex;\n",
              "  max-width: 50ex;\n",
              "  color: var(--sklearn-color-text);\n",
              "  box-shadow: 2pt 2pt 4pt #999;\n",
              "  /* unfitted */\n",
              "  background: var(--sklearn-color-unfitted-level-0);\n",
              "  border: .5pt solid var(--sklearn-color-unfitted-level-3);\n",
              "}\n",
              "\n",
              ".sk-estimator-doc-link.fitted span {\n",
              "  /* fitted */\n",
              "  background: var(--sklearn-color-fitted-level-0);\n",
              "  border: var(--sklearn-color-fitted-level-3);\n",
              "}\n",
              "\n",
              ".sk-estimator-doc-link:hover span {\n",
              "  display: block;\n",
              "}\n",
              "\n",
              "/* \"?\"-specific style due to the `<a>` HTML tag */\n",
              "\n",
              "#sk-container-id-1 a.estimator_doc_link {\n",
              "  float: right;\n",
              "  font-size: 1rem;\n",
              "  line-height: 1em;\n",
              "  font-family: monospace;\n",
              "  background-color: var(--sklearn-color-background);\n",
              "  border-radius: 1rem;\n",
              "  height: 1rem;\n",
              "  width: 1rem;\n",
              "  text-decoration: none;\n",
              "  /* unfitted */\n",
              "  color: var(--sklearn-color-unfitted-level-1);\n",
              "  border: var(--sklearn-color-unfitted-level-1) 1pt solid;\n",
              "}\n",
              "\n",
              "#sk-container-id-1 a.estimator_doc_link.fitted {\n",
              "  /* fitted */\n",
              "  border: var(--sklearn-color-fitted-level-1) 1pt solid;\n",
              "  color: var(--sklearn-color-fitted-level-1);\n",
              "}\n",
              "\n",
              "/* On hover */\n",
              "#sk-container-id-1 a.estimator_doc_link:hover {\n",
              "  /* unfitted */\n",
              "  background-color: var(--sklearn-color-unfitted-level-3);\n",
              "  color: var(--sklearn-color-background);\n",
              "  text-decoration: none;\n",
              "}\n",
              "\n",
              "#sk-container-id-1 a.estimator_doc_link.fitted:hover {\n",
              "  /* fitted */\n",
              "  background-color: var(--sklearn-color-fitted-level-3);\n",
              "}\n",
              "</style><div id=\"sk-container-id-1\" class=\"sk-top-container\"><div class=\"sk-text-repr-fallback\"><pre>SVC()</pre><b>In a Jupyter environment, please rerun this cell to show the HTML representation or trust the notebook. <br />On GitHub, the HTML representation is unable to render, please try loading this page with nbviewer.org.</b></div><div class=\"sk-container\" hidden><div class=\"sk-item\"><div class=\"sk-estimator fitted sk-toggleable\"><input class=\"sk-toggleable__control sk-hidden--visually\" id=\"sk-estimator-id-1\" type=\"checkbox\" checked><label for=\"sk-estimator-id-1\" class=\"sk-toggleable__label fitted sk-toggleable__label-arrow\"><div><div>SVC</div></div><div><a class=\"sk-estimator-doc-link fitted\" rel=\"noreferrer\" target=\"_blank\" href=\"https://scikit-learn.org/1.6/modules/generated/sklearn.svm.SVC.html\">?<span>Documentation for SVC</span></a><span class=\"sk-estimator-doc-link fitted\">i<span>Fitted</span></span></div></label><div class=\"sk-toggleable__content fitted\"><pre>SVC()</pre></div> </div></div></div></div>"
            ]
          },
          "metadata": {},
          "execution_count": 34
        }
      ]
    },
    {
      "cell_type": "markdown",
      "source": [
        "# 8. Prediksi dan evaluasi\n"
      ],
      "metadata": {
        "id": "GZFLZlvJOQkz"
      }
    },
    {
      "cell_type": "code",
      "source": [
        "y_pred = svm_model.predict(X_test_scaled)\n",
        "\n",
        "y_pred = svm_model.predict(X_test_scaled)\n",
        "\n",
        "print(\"Classification Report SVM:\\n\", classification_report(y_test, y_pred))\n",
        "print(\"Confusion Matrix:\\n\", confusion_matrix(y_test, y_pred))\n",
        "print(\"Akurasi SVM:\", accuracy_score(y_test, y_pred))"
      ],
      "metadata": {
        "colab": {
          "base_uri": "https://localhost:8080/"
        },
        "id": "nzBkpGp4OUoL",
        "outputId": "3e3bd2fc-0466-4f3d-cd77-85f665024625"
      },
      "execution_count": 37,
      "outputs": [
        {
          "output_type": "stream",
          "name": "stdout",
          "text": [
            "Classification Report SVM:\n",
            "               precision    recall  f1-score   support\n",
            "\n",
            "           0       0.98      0.69      0.81       547\n",
            "           1       0.94      1.00      0.97      2452\n",
            "\n",
            "    accuracy                           0.94      2999\n",
            "   macro avg       0.96      0.85      0.89      2999\n",
            "weighted avg       0.94      0.94      0.94      2999\n",
            "\n",
            "Confusion Matrix:\n",
            " [[ 380  167]\n",
            " [   9 2443]]\n",
            "Akurasi SVM: 0.9413137712570857\n"
          ]
        }
      ]
    },
    {
      "cell_type": "code",
      "source": [
        "import matplotlib.pyplot as plt\n",
        "from sklearn.tree import DecisionTreeClassifier"
      ],
      "metadata": {
        "id": "RxFYDsQAOpDF"
      },
      "execution_count": 38,
      "outputs": []
    },
    {
      "cell_type": "markdown",
      "source": [
        "# --- Decision Tree ---\n"
      ],
      "metadata": {
        "id": "cMlN3HaDOsg6"
      }
    },
    {
      "cell_type": "code",
      "source": [
        "tree_model = DecisionTreeClassifier()\n",
        "tree_model.fit(X_train, y_train)\n",
        "tree_pred = tree_model.predict(X_test)\n",
        "tree_accuracy = accuracy_score(y_test, tree_pred)\n"
      ],
      "metadata": {
        "id": "mDApIllDOv5x"
      },
      "execution_count": 39,
      "outputs": []
    },
    {
      "cell_type": "markdown",
      "source": [
        "# --- SVM (sudah dilatih sebelumnya) ---\n"
      ],
      "metadata": {
        "id": "tTm_WI5hO3So"
      }
    },
    {
      "cell_type": "code",
      "source": [
        "svm_accuracy = accuracy_score(y_test, y_pred)\n"
      ],
      "metadata": {
        "id": "MUSw5Z7AO-S1"
      },
      "execution_count": 40,
      "outputs": []
    },
    {
      "cell_type": "markdown",
      "source": [
        "# --- Plot Perbandingan Akurasi ---\n"
      ],
      "metadata": {
        "id": "WBKjRYJ3PAkR"
      }
    },
    {
      "cell_type": "code",
      "source": [
        "model_names = ['Decision Tree', 'SVM']\n",
        "accuracies = [tree_accuracy, svm_accuracy]\n",
        "\n",
        "plt.figure(figsize=(8, 5))\n",
        "plt.bar(model_names, accuracies, color=['orange', 'skyblue'])\n",
        "plt.title('Perbandingan Akurasi: Decision Tree vs SVM')\n",
        "plt.ylabel('Akurasi')\n",
        "plt.ylim(0, 1)\n",
        "plt.grid(axis='y', linestyle='--', alpha=0.7)\n",
        "\n"
      ],
      "metadata": {
        "colab": {
          "base_uri": "https://localhost:8080/",
          "height": 427
        },
        "id": "oNda9oE7PIFN",
        "outputId": "7214d6cf-4cd5-4ac6-86bf-59c022c24102"
      },
      "execution_count": 42,
      "outputs": [
        {
          "output_type": "display_data",
          "data": {
            "text/plain": [
              "<Figure size 800x500 with 1 Axes>"
            ],
            "image/png": "[encoded data removed]"
          },
          "metadata": {}
        }
      ]
    },
    {
      "cell_type": "markdown",
      "source": [
        "# Tambahkan label akurasi di atas bar\n"
      ],
      "metadata": {
        "id": "HT2bta4cQAgR"
      }
    },
    {
      "cell_type": "code",
      "source": [
        "for i, acc in enumerate(accuracies):\n",
        "    plt.text(i, acc + 0.01, f'{acc:.2f}', ha='center', fontsize=12)\n",
        "\n",
        "plt.show()"
      ],
      "metadata": {
        "colab": {
          "base_uri": "https://localhost:8080/",
          "height": 435
        },
        "id": "bnelFI0ZQB8q",
        "outputId": "a9fc9824-20ed-467b-9a97-9e1fdacc4e1d"
      },
      "execution_count": 43,
      "outputs": [
        {
          "output_type": "display_data",
          "data": {
            "text/plain": [
              "<Figure size 640x480 with 1 Axes>"
            ],
            "image/png": "[encoded data removed]"
          },
          "metadata": {}
        }
      ]
    }
  ]
}